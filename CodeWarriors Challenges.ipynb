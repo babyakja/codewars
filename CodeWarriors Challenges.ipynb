{
 "cells": [
  {
   "cell_type": "markdown",
   "metadata": {},
   "source": [
    "# CodeWarriors\n",
    "---\n",
    "A collection of codewarrio challenges and best practices"
   ]
  },
  {
   "cell_type": "markdown",
   "metadata": {},
   "source": [
    "## Count bits in a number"
   ]
  },
  {
   "cell_type": "code",
   "execution_count": 15,
   "metadata": {},
   "outputs": [],
   "source": [
    "def countBits(n):\n",
    "    i = 0\n",
    "    bi_rep = bin(n)\n",
    "    print(bi_rep)\n",
    "    for char in bi_rep:\n",
    "        if char == '1':\n",
    "            i += 1\n",
    "    return i\n",
    "\n",
    "# Best Practices\n",
    "#def countBits(n):\n",
    "#    return bin(n).count(\"1\")"
   ]
  },
  {
   "cell_type": "code",
   "execution_count": 23,
   "metadata": {},
   "outputs": [
    {
     "name": "stdout",
     "output_type": "stream",
     "text": [
      "0b1010\n"
     ]
    },
    {
     "data": {
      "text/plain": [
       "2"
      ]
     },
     "execution_count": 23,
     "metadata": {},
     "output_type": "execute_result"
    }
   ],
   "source": [
    "countBits(10)"
   ]
  },
  {
   "cell_type": "markdown",
   "metadata": {},
   "source": [
    "### Calculate when population will exceed a threshold"
   ]
  },
  {
   "cell_type": "code",
   "execution_count": 26,
   "metadata": {},
   "outputs": [],
   "source": [
    "def nb_year(p0, percent, aug, p):\n",
    "    i = 0\n",
    "    p1 = p0\n",
    "    while p >= p1:\n",
    "        p1 = p1 * (1+percent/100) + aug\n",
    "        i += 1\n",
    "    return i "
   ]
  },
  {
   "cell_type": "code",
   "execution_count": 27,
   "metadata": {},
   "outputs": [
    {
     "data": {
      "text/plain": [
       "15"
      ]
     },
     "execution_count": 27,
     "metadata": {},
     "output_type": "execute_result"
    }
   ],
   "source": [
    "nb_year(1500, 5, 100, 5000)"
   ]
  },
  {
   "cell_type": "markdown",
   "metadata": {},
   "source": [
    "### Count duplicates in a string"
   ]
  },
  {
   "cell_type": "code",
   "execution_count": 37,
   "metadata": {},
   "outputs": [],
   "source": [
    "def duplicate_count(text):\n",
    "    char_dict = {}\n",
    "    i = 0\n",
    "    for char in text:\n",
    "        char_dict[char] = text.count(char)\n",
    "    for v in char_dict.values():\n",
    "        if v > 1:\n",
    "            i += 1\n",
    "    return i"
   ]
  },
  {
   "cell_type": "code",
   "execution_count": null,
   "metadata": {},
   "outputs": [],
   "source": []
  },
  {
   "cell_type": "markdown",
   "metadata": {},
   "source": [
    "### Accumulate Word"
   ]
  },
  {
   "cell_type": "code",
   "execution_count": 81,
   "metadata": {},
   "outputs": [],
   "source": [
    "def accum(s):\n",
    "    i = 0\n",
    "    word =''\n",
    "    for char in s:\n",
    "        word = word + char.upper()\n",
    "        for j in range(0,i):\n",
    "            word = word +s[i].lower()\n",
    "        word = word + '-'\n",
    "        i += 1\n",
    "    return word[:-1]\n",
    "\n",
    "# Best Practices\n",
    "#def accum(s):\n",
    "#    return '-'.join(c.upper() + c.lower() * i for i, c in enumerate(s))"
   ]
  },
  {
   "cell_type": "code",
   "execution_count": 80,
   "metadata": {},
   "outputs": [
    {
     "data": {
      "text/plain": [
       "'C-Ww-Aaa-Tttt'"
      ]
     },
     "execution_count": 80,
     "metadata": {},
     "output_type": "execute_result"
    }
   ],
   "source": [
    "accum('cwAt')"
   ]
  },
  {
   "cell_type": "markdown",
   "metadata": {},
   "source": []
  },
  {
   "cell_type": "code",
   "execution_count": 82,
   "metadata": {},
   "outputs": [],
   "source": [
    "def get_middle(s):\n",
    "    mid = len(s)//2\n",
    "    if len(s)%2 != 0:\n",
    "        return s[mid:mid+1]\n",
    "    else:\n",
    "        return s[mid]"
   ]
  },
  {
   "cell_type": "code",
   "execution_count": 83,
   "metadata": {},
   "outputs": [
    {
     "data": {
      "text/plain": [
       "'s'"
      ]
     },
     "execution_count": 83,
     "metadata": {},
     "output_type": "execute_result"
    }
   ],
   "source": [
    "get_middle('test')"
   ]
  },
  {
   "cell_type": "code",
   "execution_count": 84,
   "metadata": {},
   "outputs": [],
   "source": [
    "s='test'"
   ]
  },
  {
   "cell_type": "code",
   "execution_count": 92,
   "metadata": {},
   "outputs": [
    {
     "data": {
      "text/plain": [
       "'es'"
      ]
     },
     "execution_count": 92,
     "metadata": {},
     "output_type": "execute_result"
    }
   ],
   "source": [
    "s[1:3]"
   ]
  },
  {
   "cell_type": "markdown",
   "metadata": {},
   "source": [
    "### RGB Conversion"
   ]
  },
  {
   "cell_type": "code",
   "execution_count": 180,
   "metadata": {},
   "outputs": [],
   "source": [
    "def rgb(r,g,b):\n",
    "    colors = [r,g,b]\n",
    "    colors = [x if x >= 0 else 0 for x in colors]\n",
    "    colors = [x if x <= 255 else 255 for x in colors]\n",
    "    colors = [hex(x)[2:].upper() for x in colors]\n",
    "    color = []\n",
    "    for code in colors:\n",
    "        if len(code) < 2:\n",
    "            code = '0' + code\n",
    "            color.append(code)\n",
    "        else:\n",
    "            color.append(code)\n",
    "    hexcode = ''\n",
    "    hexcode = hexcode.join(color)\n",
    "    return  hexcode\n",
    "\n",
    "# BEst Practice\n",
    "#def rgb(r, g, b):\n",
    "#    round = lambda x: min(255, max(x, 0))\n",
    "#    return (\"{:02X}\" * 3).format(round(r), round(g), round(b))"
   ]
  },
  {
   "cell_type": "code",
   "execution_count": 181,
   "metadata": {},
   "outputs": [
    {
     "data": {
      "text/plain": [
       "'1400FF'"
      ]
     },
     "execution_count": 181,
     "metadata": {},
     "output_type": "execute_result"
    }
   ],
   "source": [
    "rgb(20,-5,305)"
   ]
  },
  {
   "cell_type": "code",
   "execution_count": 183,
   "metadata": {},
   "outputs": [],
   "source": [
    "#def alphabet_position(text):\n",
    "#    return ' '.join(str(ord(c) - 96) for c in text.lower() if c.isalpha())"
   ]
  },
  {
   "cell_type": "markdown",
   "metadata": {},
   "source": [
    "### Top Scoring Word"
   ]
  },
  {
   "cell_type": "code",
   "execution_count": 200,
   "metadata": {},
   "outputs": [],
   "source": [
    "def high(x):\n",
    "    position = [word.lower() for word in x.split()]\n",
    "    score = []\n",
    "    for word in position:\n",
    "        total = 0\n",
    "        for char in word:\n",
    "            total = total + ord(char) - 96\n",
    "        score.append(total)\n",
    "    return position[(score.index(max(score)))]"
   ]
  },
  {
   "cell_type": "code",
   "execution_count": 201,
   "metadata": {},
   "outputs": [
    {
     "data": {
      "text/plain": [
       "'taxi'"
      ]
     },
     "execution_count": 201,
     "metadata": {},
     "output_type": "execute_result"
    }
   ],
   "source": [
    "high('man i need a taxi up to ubud')"
   ]
  },
  {
   "cell_type": "code",
   "execution_count": null,
   "metadata": {},
   "outputs": [],
   "source": []
  }
 ],
 "metadata": {
  "kernelspec": {
   "display_name": "Python 3",
   "language": "python",
   "name": "python3"
  },
  "language_info": {
   "codemirror_mode": {
    "name": "ipython",
    "version": 3
   },
   "file_extension": ".py",
   "mimetype": "text/x-python",
   "name": "python",
   "nbconvert_exporter": "python",
   "pygments_lexer": "ipython3",
   "version": "3.6.5"
  }
 },
 "nbformat": 4,
 "nbformat_minor": 2
}
