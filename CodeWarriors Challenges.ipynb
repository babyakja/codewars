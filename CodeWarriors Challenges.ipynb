{
 "cells": [
  {
   "cell_type": "markdown",
   "metadata": {},
   "source": [
    "# CodeWars\n",
    "---\n",
    "A collection of codewar challenges and best practices"
   ]
  },
  {
   "cell_type": "markdown",
   "metadata": {},
   "source": [
    "## Count bits in a number"
   ]
  },
  {
   "cell_type": "code",
   "execution_count": 15,
   "metadata": {},
   "outputs": [],
   "source": [
    "def countBits(n):\n",
    "    i = 0\n",
    "    bi_rep = bin(n)\n",
    "    print(bi_rep)\n",
    "    for char in bi_rep:\n",
    "        if char == '1':\n",
    "            i += 1\n",
    "    return i\n",
    "\n",
    "# Best Practices\n",
    "#def countBits(n):\n",
    "#    return bin(n).count(\"1\")"
   ]
  },
  {
   "cell_type": "code",
   "execution_count": 23,
   "metadata": {},
   "outputs": [
    {
     "name": "stdout",
     "output_type": "stream",
     "text": [
      "0b1010\n"
     ]
    },
    {
     "data": {
      "text/plain": [
       "2"
      ]
     },
     "execution_count": 23,
     "metadata": {},
     "output_type": "execute_result"
    }
   ],
   "source": [
    "countBits(10)"
   ]
  },
  {
   "cell_type": "markdown",
   "metadata": {},
   "source": [
    "### Calculate when population will exceed a threshold"
   ]
  },
  {
   "cell_type": "code",
   "execution_count": 26,
   "metadata": {},
   "outputs": [],
   "source": [
    "def nb_year(p0, percent, aug, p):\n",
    "    i = 0\n",
    "    p1 = p0\n",
    "    while p >= p1:\n",
    "        p1 = p1 * (1+percent/100) + aug\n",
    "        i += 1\n",
    "    return i "
   ]
  },
  {
   "cell_type": "code",
   "execution_count": 27,
   "metadata": {},
   "outputs": [
    {
     "data": {
      "text/plain": [
       "15"
      ]
     },
     "execution_count": 27,
     "metadata": {},
     "output_type": "execute_result"
    }
   ],
   "source": [
    "nb_year(1500, 5, 100, 5000)"
   ]
  },
  {
   "cell_type": "markdown",
   "metadata": {},
   "source": [
    "### Count duplicates in a string"
   ]
  },
  {
   "cell_type": "code",
   "execution_count": 37,
   "metadata": {},
   "outputs": [],
   "source": [
    "def duplicate_count(text):\n",
    "    char_dict = {}\n",
    "    i = 0\n",
    "    for char in text:\n",
    "        char_dict[char] = text.count(char)\n",
    "    for v in char_dict.values():\n",
    "        if v > 1:\n",
    "            i += 1\n",
    "    return i"
   ]
  },
  {
   "cell_type": "code",
   "execution_count": null,
   "metadata": {},
   "outputs": [],
   "source": []
  },
  {
   "cell_type": "markdown",
   "metadata": {},
   "source": [
    "### Accumulate Word"
   ]
  },
  {
   "cell_type": "code",
   "execution_count": 81,
   "metadata": {},
   "outputs": [],
   "source": [
    "def accum(s):\n",
    "    i = 0\n",
    "    word =''\n",
    "    for char in s:\n",
    "        word = word + char.upper()\n",
    "        for j in range(0,i):\n",
    "            word = word +s[i].lower()\n",
    "        word = word + '-'\n",
    "        i += 1\n",
    "    return word[:-1]\n",
    "\n",
    "# Best Practices\n",
    "#def accum(s):\n",
    "#    return '-'.join(c.upper() + c.lower() * i for i, c in enumerate(s))"
   ]
  },
  {
   "cell_type": "code",
   "execution_count": 80,
   "metadata": {},
   "outputs": [
    {
     "data": {
      "text/plain": [
       "'C-Ww-Aaa-Tttt'"
      ]
     },
     "execution_count": 80,
     "metadata": {},
     "output_type": "execute_result"
    }
   ],
   "source": [
    "accum('cwAt')"
   ]
  },
  {
   "cell_type": "markdown",
   "metadata": {},
   "source": []
  },
  {
   "cell_type": "code",
   "execution_count": 82,
   "metadata": {},
   "outputs": [],
   "source": [
    "def get_middle(s):\n",
    "    mid = len(s)//2\n",
    "    if len(s)%2 != 0:\n",
    "        return s[mid:mid+1]\n",
    "    else:\n",
    "        return s[mid]"
   ]
  },
  {
   "cell_type": "code",
   "execution_count": 83,
   "metadata": {},
   "outputs": [
    {
     "data": {
      "text/plain": [
       "'s'"
      ]
     },
     "execution_count": 83,
     "metadata": {},
     "output_type": "execute_result"
    }
   ],
   "source": [
    "get_middle('test')"
   ]
  },
  {
   "cell_type": "code",
   "execution_count": 84,
   "metadata": {},
   "outputs": [],
   "source": [
    "s='test'"
   ]
  },
  {
   "cell_type": "code",
   "execution_count": 92,
   "metadata": {},
   "outputs": [
    {
     "data": {
      "text/plain": [
       "'es'"
      ]
     },
     "execution_count": 92,
     "metadata": {},
     "output_type": "execute_result"
    }
   ],
   "source": [
    "s[1:3]"
   ]
  },
  {
   "cell_type": "markdown",
   "metadata": {},
   "source": [
    "### RGB Conversion"
   ]
  },
  {
   "cell_type": "code",
   "execution_count": 180,
   "metadata": {},
   "outputs": [],
   "source": [
    "def rgb(r,g,b):\n",
    "    colors = [r,g,b]\n",
    "    colors = [x if x >= 0 else 0 for x in colors]\n",
    "    colors = [x if x <= 255 else 255 for x in colors]\n",
    "    colors = [hex(x)[2:].upper() for x in colors]\n",
    "    color = []\n",
    "    for code in colors:\n",
    "        if len(code) < 2:\n",
    "            code = '0' + code\n",
    "            color.append(code)\n",
    "        else:\n",
    "            color.append(code)\n",
    "    hexcode = ''\n",
    "    hexcode = hexcode.join(color)\n",
    "    return  hexcode\n",
    "\n",
    "# BEst Practice\n",
    "#def rgb(r, g, b):\n",
    "#    round = lambda x: min(255, max(x, 0))\n",
    "#    return (\"{:02X}\" * 3).format(round(r), round(g), round(b))"
   ]
  },
  {
   "cell_type": "code",
   "execution_count": 181,
   "metadata": {},
   "outputs": [
    {
     "data": {
      "text/plain": [
       "'1400FF'"
      ]
     },
     "execution_count": 181,
     "metadata": {},
     "output_type": "execute_result"
    }
   ],
   "source": [
    "rgb(20,-5,305)"
   ]
  },
  {
   "cell_type": "code",
   "execution_count": 183,
   "metadata": {},
   "outputs": [],
   "source": [
    "#def alphabet_position(text):\n",
    "#    return ' '.join(str(ord(c) - 96) for c in text.lower() if c.isalpha())"
   ]
  },
  {
   "cell_type": "markdown",
   "metadata": {},
   "source": [
    "### Top Scoring Word"
   ]
  },
  {
   "cell_type": "code",
   "execution_count": 200,
   "metadata": {},
   "outputs": [],
   "source": [
    "def high(x):\n",
    "    position = [word.lower() for word in x.split()]\n",
    "    score = []\n",
    "    for word in position:\n",
    "        total = 0\n",
    "        for char in word:\n",
    "            total = total + ord(char) - 96\n",
    "        score.append(total)\n",
    "    return position[(score.index(max(score)))]"
   ]
  },
  {
   "cell_type": "code",
   "execution_count": 201,
   "metadata": {},
   "outputs": [
    {
     "data": {
      "text/plain": [
       "'taxi'"
      ]
     },
     "execution_count": 201,
     "metadata": {},
     "output_type": "execute_result"
    }
   ],
   "source": [
    "high('man i need a taxi up to ubud')"
   ]
  },
  {
   "cell_type": "markdown",
   "metadata": {},
   "source": [
    "### Sum of Pairs"
   ]
  },
  {
   "cell_type": "code",
   "execution_count": 202,
   "metadata": {},
   "outputs": [],
   "source": [
    "def sum_pairs(ints, s):\n",
    "    solution = {}\n",
    "    for i in range(0,len(ints)):\n",
    "        pair_sum = [(ints[i] + ints[j]) for j in range(i+1,len(ints))]\n",
    "        if any([j == s for j in pair_sum]):\n",
    "            if pair_sum.index(s)+1 not in solution.keys():\n",
    "                solution[pair_sum.index(s)+1] = [ints[i],ints[pair_sum.index(s)+i+1]]\n",
    "            else:\n",
    "                pass\n",
    "        else:\n",
    "            pass\n",
    "    if len(solution) > 0:\n",
    "        return solution[min(solution)]\n",
    "    else:\n",
    "        return None\n",
    "\n",
    "\n"
   ]
  },
  {
   "cell_type": "code",
   "execution_count": 205,
   "metadata": {},
   "outputs": [
    {
     "data": {
      "text/plain": [
       "[20, 20]"
      ]
     },
     "execution_count": 205,
     "metadata": {},
     "output_type": "execute_result"
    }
   ],
   "source": [
    "sum_pairs([1, 4, 8, 7, 3, 15,20,20],40)"
   ]
  },
  {
   "cell_type": "code",
   "execution_count": 64,
   "metadata": {},
   "outputs": [],
   "source": [
    "def sum_pair(ints,s):\n",
    "    solution = {}\n",
    "    for integer in ints:\n",
    "        if (s-integer) not in ints:\n",
    "            pass\n",
    "        else:\n",
    "            solution[ints[::-1].index(s-integer)+len(ints)-ints.index(integer)-1] = [integer,ints[ints.index(s-integer)] ] \n",
    "    print(solution)\n",
    "    if len(solution) > 0:\n",
    "        if len([solution[i] for i in solution if i > 0])>0:\n",
    "            return [solution[i] for i in solution if i > 0][0]\n",
    "        else:\n",
    "            return None\n",
    "    else:\n",
    "        return None"
   ]
  },
  {
   "cell_type": "code",
   "execution_count": 65,
   "metadata": {},
   "outputs": [
    {
     "name": "stdout",
     "output_type": "stream",
     "text": [
      "{4: [5, 5], 3: [7, 3]}\n"
     ]
    },
    {
     "data": {
      "text/plain": [
       "[5, 5]"
      ]
     },
     "execution_count": 65,
     "metadata": {},
     "output_type": "execute_result"
    }
   ],
   "source": [
    "sum_pair([10, 5, 2, 3, 7, 5],10)"
   ]
  },
  {
   "cell_type": "code",
   "execution_count": null,
   "metadata": {},
   "outputs": [],
   "source": [
    "l1= [1, 4, 8, 7, 3, 15]\n",
    "l2= [1, -2, 3, 0, -6, 1]\n",
    "l3= [20, -13, 40]\n",
    "l4= [1, 2, 3, 4, 1, 0]\n",
    "l5= [10, 5, 2, 3, 7, 5]\n",
    "l6= [4, -2, 3, 3, 4]\n",
    "l7= [0, 2, 0]\n",
    "l8= [5, 9, 13, -3]"
   ]
  },
  {
   "cell_type": "code",
   "execution_count": 123,
   "metadata": {},
   "outputs": [],
   "source": [
    "def sum_pairs(ints,s):\n",
    "    solution = {}\n",
    "    for i in range(0,len(ints)):\n",
    "        if (s-ints[i]) not in ints:\n",
    "            pass\n",
    "        else:\n",
    "            if ints.index(s-ints[i]) == i:\n",
    "                if len(ints)-ints[::-1].index(ints[i])-2 > 0:\n",
    "                    solution[len(ints)-ints[::-1].index(ints[i])-1] = [ints[i],ints[ints.index(s-ints[i])]]\n",
    "                else:\n",
    "                    pass\n",
    "            else:\n",
    "                if (ints.index(s-ints[i]) - i) not in solution.keys():\n",
    "                    solution[ints.index(s-ints[i]) - i] = [ints[i],ints[ints.index(s-ints[i])]]\n",
    "                else:\n",
    "                    pass\n",
    "    print(solution)\n",
    "    if len(solution) > 0:\n",
    "        if len([solution[i] for i in solution if i > 0])>0:\n",
    "            return [solution[i] for i in solution if i > 0][0]\n",
    "        else:\n",
    "            return None\n",
    "    else:\n",
    "        return None\n",
    "    "
   ]
  },
  {
   "cell_type": "code",
   "execution_count": 124,
   "metadata": {},
   "outputs": [
    {
     "name": "stdout",
     "output_type": "stream",
     "text": [
      "{3: [1, 7], -3: [7, 1]}\n"
     ]
    },
    {
     "data": {
      "text/plain": [
       "[1, 7]"
      ]
     },
     "execution_count": 124,
     "metadata": {},
     "output_type": "execute_result"
    }
   ],
   "source": [
    "sum_pairs([1, 4, 8, 7, 3, 15],8)"
   ]
  },
  {
   "cell_type": "markdown",
   "metadata": {},
   "source": [
    "### Count char in your string"
   ]
  },
  {
   "cell_type": "code",
   "execution_count": 125,
   "metadata": {},
   "outputs": [],
   "source": [
    "def count(string):\n",
    "    solution = {}\n",
    "    for char in string:\n",
    "        if char not in solution.keys():\n",
    "            solution[char] = 1\n",
    "        else:\n",
    "            solution[char] = solution[char] + 1\n",
    "    return solution\n",
    "\n",
    "#BEST PRACTICES\n",
    "#def count(string):\n",
    "  \n",
    "#    return {i: string.count(i) for i in string}"
   ]
  },
  {
   "cell_type": "code",
   "execution_count": 126,
   "metadata": {},
   "outputs": [
    {
     "data": {
      "text/plain": [
       "{'a': 2, 'b': 1}"
      ]
     },
     "execution_count": 126,
     "metadata": {},
     "output_type": "execute_result"
    }
   ],
   "source": [
    "count('aba')"
   ]
  },
  {
   "cell_type": "markdown",
   "metadata": {},
   "source": [
    "### Gap in Primes"
   ]
  },
  {
   "cell_type": "code",
   "execution_count": 445,
   "metadata": {},
   "outputs": [],
   "source": [
    "def gap(g, m, n):\n",
    "    primes = []\n",
    "    solution = {}\n",
    "    for x in range(m,n):\n",
    "        for y in range(2,x):\n",
    "            if not (x % y):\n",
    "                print(x)\n",
    "                break\n",
    "            else:\n",
    "                primes.append(x)"
   ]
  },
  {
   "cell_type": "code",
   "execution_count": 446,
   "metadata": {},
   "outputs": [
    {
     "name": "stdout",
     "output_type": "stream",
     "text": [
      "100\n",
      "101\n",
      "im prime\n",
      "101\n",
      "im prime\n",
      "101\n",
      "im prime\n",
      "101\n",
      "im prime\n",
      "101\n",
      "im prime\n",
      "101\n",
      "im prime\n",
      "101\n",
      "im prime\n",
      "101\n",
      "im prime\n",
      "101\n",
      "im prime\n",
      "101\n",
      "im prime\n",
      "101\n",
      "im prime\n",
      "101\n",
      "im prime\n",
      "101\n",
      "im prime\n",
      "101\n",
      "im prime\n",
      "101\n",
      "im prime\n",
      "101\n",
      "im prime\n",
      "101\n",
      "im prime\n",
      "101\n",
      "im prime\n",
      "101\n",
      "im prime\n",
      "101\n",
      "im prime\n",
      "101\n",
      "im prime\n",
      "101\n",
      "im prime\n",
      "101\n",
      "im prime\n",
      "101\n",
      "im prime\n",
      "101\n",
      "im prime\n",
      "101\n",
      "im prime\n",
      "101\n",
      "im prime\n",
      "101\n",
      "im prime\n",
      "101\n",
      "im prime\n",
      "101\n",
      "im prime\n",
      "101\n",
      "im prime\n",
      "101\n",
      "im prime\n",
      "101\n",
      "im prime\n",
      "101\n",
      "im prime\n",
      "101\n",
      "im prime\n",
      "101\n",
      "im prime\n",
      "101\n",
      "im prime\n",
      "101\n",
      "im prime\n",
      "101\n",
      "im prime\n",
      "101\n",
      "im prime\n",
      "101\n",
      "im prime\n",
      "101\n",
      "im prime\n",
      "101\n",
      "im prime\n",
      "101\n",
      "im prime\n",
      "101\n",
      "im prime\n",
      "101\n",
      "im prime\n",
      "101\n",
      "im prime\n",
      "101\n",
      "im prime\n",
      "101\n",
      "im prime\n",
      "101\n",
      "im prime\n",
      "101\n",
      "im prime\n",
      "101\n",
      "im prime\n",
      "101\n",
      "im prime\n",
      "101\n",
      "im prime\n",
      "101\n",
      "im prime\n",
      "101\n",
      "im prime\n",
      "101\n",
      "im prime\n",
      "101\n",
      "im prime\n",
      "101\n",
      "im prime\n",
      "101\n",
      "im prime\n",
      "101\n",
      "im prime\n",
      "101\n",
      "im prime\n",
      "101\n",
      "im prime\n",
      "101\n",
      "im prime\n",
      "101\n",
      "im prime\n",
      "101\n",
      "im prime\n",
      "101\n",
      "im prime\n",
      "101\n",
      "im prime\n",
      "101\n",
      "im prime\n",
      "101\n",
      "im prime\n",
      "101\n",
      "im prime\n",
      "101\n",
      "im prime\n",
      "101\n",
      "im prime\n",
      "101\n",
      "im prime\n",
      "101\n",
      "im prime\n",
      "101\n",
      "im prime\n",
      "101\n",
      "im prime\n",
      "101\n",
      "im prime\n",
      "101\n",
      "im prime\n",
      "101\n",
      "im prime\n",
      "101\n",
      "im prime\n",
      "101\n",
      "im prime\n",
      "101\n",
      "im prime\n",
      "101\n",
      "im prime\n",
      "101\n",
      "im prime\n",
      "101\n",
      "im prime\n",
      "101\n",
      "im prime\n",
      "101\n",
      "im prime\n",
      "101\n",
      "im prime\n",
      "101\n",
      "im prime\n",
      "101\n",
      "im prime\n",
      "101\n",
      "im prime\n",
      "101\n",
      "im prime\n",
      "101\n",
      "im prime\n",
      "101\n",
      "im prime\n",
      "101\n",
      "im prime\n",
      "101\n",
      "im prime\n",
      "101\n",
      "im prime\n",
      "101\n",
      "im prime\n",
      "102\n",
      "103\n",
      "im prime\n",
      "103\n",
      "im prime\n",
      "103\n",
      "im prime\n",
      "103\n",
      "im prime\n",
      "103\n",
      "im prime\n",
      "103\n",
      "im prime\n",
      "103\n",
      "im prime\n",
      "103\n",
      "im prime\n",
      "103\n",
      "im prime\n",
      "103\n",
      "im prime\n",
      "103\n",
      "im prime\n",
      "103\n",
      "im prime\n",
      "103\n",
      "im prime\n",
      "103\n",
      "im prime\n",
      "103\n",
      "im prime\n",
      "103\n",
      "im prime\n",
      "103\n",
      "im prime\n",
      "103\n",
      "im prime\n",
      "103\n",
      "im prime\n",
      "103\n",
      "im prime\n",
      "103\n",
      "im prime\n",
      "103\n",
      "im prime\n",
      "103\n",
      "im prime\n",
      "103\n",
      "im prime\n",
      "103\n",
      "im prime\n",
      "103\n",
      "im prime\n",
      "103\n",
      "im prime\n",
      "103\n",
      "im prime\n",
      "103\n",
      "im prime\n",
      "103\n",
      "im prime\n",
      "103\n",
      "im prime\n",
      "103\n",
      "im prime\n",
      "103\n",
      "im prime\n",
      "103\n",
      "im prime\n",
      "103\n",
      "im prime\n",
      "103\n",
      "im prime\n",
      "103\n",
      "im prime\n",
      "103\n",
      "im prime\n",
      "103\n",
      "im prime\n",
      "103\n",
      "im prime\n",
      "103\n",
      "im prime\n",
      "103\n",
      "im prime\n",
      "103\n",
      "im prime\n",
      "103\n",
      "im prime\n",
      "103\n",
      "im prime\n",
      "103\n",
      "im prime\n",
      "103\n",
      "im prime\n",
      "103\n",
      "im prime\n",
      "103\n",
      "im prime\n",
      "103\n",
      "im prime\n",
      "103\n",
      "im prime\n",
      "103\n",
      "im prime\n",
      "103\n",
      "im prime\n",
      "103\n",
      "im prime\n",
      "103\n",
      "im prime\n",
      "103\n",
      "im prime\n",
      "103\n",
      "im prime\n",
      "103\n",
      "im prime\n",
      "103\n",
      "im prime\n",
      "103\n",
      "im prime\n",
      "103\n",
      "im prime\n",
      "103\n",
      "im prime\n",
      "103\n",
      "im prime\n",
      "103\n",
      "im prime\n",
      "103\n",
      "im prime\n",
      "103\n",
      "im prime\n",
      "103\n",
      "im prime\n",
      "103\n",
      "im prime\n",
      "103\n",
      "im prime\n",
      "103\n",
      "im prime\n",
      "103\n",
      "im prime\n",
      "103\n",
      "im prime\n",
      "103\n",
      "im prime\n",
      "103\n",
      "im prime\n",
      "103\n",
      "im prime\n",
      "103\n",
      "im prime\n",
      "103\n",
      "im prime\n",
      "103\n",
      "im prime\n",
      "103\n",
      "im prime\n",
      "103\n",
      "im prime\n",
      "103\n",
      "im prime\n",
      "103\n",
      "im prime\n",
      "103\n",
      "im prime\n",
      "103\n",
      "im prime\n",
      "103\n",
      "im prime\n",
      "103\n",
      "im prime\n",
      "103\n",
      "im prime\n",
      "103\n",
      "im prime\n",
      "103\n",
      "im prime\n",
      "103\n",
      "im prime\n",
      "103\n",
      "im prime\n",
      "103\n",
      "im prime\n",
      "103\n",
      "im prime\n",
      "103\n",
      "im prime\n",
      "103\n",
      "im prime\n",
      "103\n",
      "im prime\n",
      "103\n",
      "im prime\n",
      "103\n",
      "im prime\n",
      "103\n",
      "im prime\n",
      "103\n",
      "im prime\n",
      "103\n",
      "im prime\n",
      "104\n",
      "105\n",
      "im prime\n",
      "105\n",
      "106\n",
      "107\n",
      "im prime\n",
      "107\n",
      "im prime\n",
      "107\n",
      "im prime\n",
      "107\n",
      "im prime\n",
      "107\n",
      "im prime\n",
      "107\n",
      "im prime\n",
      "107\n",
      "im prime\n",
      "107\n",
      "im prime\n",
      "107\n",
      "im prime\n",
      "107\n",
      "im prime\n",
      "107\n",
      "im prime\n",
      "107\n",
      "im prime\n",
      "107\n",
      "im prime\n",
      "107\n",
      "im prime\n",
      "107\n",
      "im prime\n",
      "107\n",
      "im prime\n",
      "107\n",
      "im prime\n",
      "107\n",
      "im prime\n",
      "107\n",
      "im prime\n",
      "107\n",
      "im prime\n",
      "107\n",
      "im prime\n",
      "107\n",
      "im prime\n",
      "107\n",
      "im prime\n",
      "107\n",
      "im prime\n",
      "107\n",
      "im prime\n",
      "107\n",
      "im prime\n",
      "107\n",
      "im prime\n",
      "107\n",
      "im prime\n",
      "107\n",
      "im prime\n",
      "107\n",
      "im prime\n",
      "107\n",
      "im prime\n",
      "107\n",
      "im prime\n",
      "107\n",
      "im prime\n",
      "107\n",
      "im prime\n",
      "107\n",
      "im prime\n",
      "107\n",
      "im prime\n",
      "107\n",
      "im prime\n",
      "107\n",
      "im prime\n",
      "107\n",
      "im prime\n",
      "107\n",
      "im prime\n",
      "107\n",
      "im prime\n",
      "107\n",
      "im prime\n",
      "107\n",
      "im prime\n",
      "107\n",
      "im prime\n",
      "107\n",
      "im prime\n",
      "107\n",
      "im prime\n",
      "107\n",
      "im prime\n",
      "107\n",
      "im prime\n",
      "107\n",
      "im prime\n",
      "107\n",
      "im prime\n",
      "107\n",
      "im prime\n",
      "107\n",
      "im prime\n",
      "107\n",
      "im prime\n",
      "107\n",
      "im prime\n",
      "107\n",
      "im prime\n",
      "107\n",
      "im prime\n",
      "107\n",
      "im prime\n",
      "107\n",
      "im prime\n",
      "107\n",
      "im prime\n",
      "107\n",
      "im prime\n",
      "107\n",
      "im prime\n",
      "107\n",
      "im prime\n",
      "107\n",
      "im prime\n",
      "107\n",
      "im prime\n",
      "107\n",
      "im prime\n",
      "107\n",
      "im prime\n",
      "107\n",
      "im prime\n",
      "107\n",
      "im prime\n",
      "107\n",
      "im prime\n",
      "107\n",
      "im prime\n",
      "107\n",
      "im prime\n",
      "107\n",
      "im prime\n",
      "107\n",
      "im prime\n",
      "107\n",
      "im prime\n",
      "107\n",
      "im prime\n",
      "107\n",
      "im prime\n",
      "107\n",
      "im prime\n",
      "107\n",
      "im prime\n",
      "107\n",
      "im prime\n",
      "107\n",
      "im prime\n",
      "107\n",
      "im prime\n",
      "107\n",
      "im prime\n",
      "107\n",
      "im prime\n",
      "107\n",
      "im prime\n",
      "107\n",
      "im prime\n",
      "107\n",
      "im prime\n",
      "107\n",
      "im prime\n",
      "107\n",
      "im prime\n",
      "107\n",
      "im prime\n",
      "107\n",
      "im prime\n",
      "107\n",
      "im prime\n",
      "107\n",
      "im prime\n",
      "107\n",
      "im prime\n",
      "107\n",
      "im prime\n",
      "107\n",
      "im prime\n",
      "107\n",
      "im prime\n",
      "107\n",
      "im prime\n",
      "107\n",
      "im prime\n",
      "107\n",
      "im prime\n",
      "107\n",
      "im prime\n",
      "107\n",
      "im prime\n",
      "107\n",
      "im prime\n",
      "107\n",
      "im prime\n",
      "107\n",
      "im prime\n",
      "107\n",
      "im prime\n",
      "108\n",
      "109\n",
      "im prime\n",
      "109\n",
      "im prime\n",
      "109\n",
      "im prime\n",
      "109\n",
      "im prime\n",
      "109\n",
      "im prime\n",
      "109\n",
      "im prime\n",
      "109\n",
      "im prime\n",
      "109\n",
      "im prime\n",
      "109\n",
      "im prime\n",
      "109\n",
      "im prime\n",
      "109\n",
      "im prime\n",
      "109\n",
      "im prime\n",
      "109\n",
      "im prime\n",
      "109\n",
      "im prime\n",
      "109\n",
      "im prime\n",
      "109\n",
      "im prime\n",
      "109\n",
      "im prime\n",
      "109\n",
      "im prime\n",
      "109\n",
      "im prime\n",
      "109\n",
      "im prime\n",
      "109\n",
      "im prime\n",
      "109\n",
      "im prime\n",
      "109\n",
      "im prime\n",
      "109\n",
      "im prime\n",
      "109\n",
      "im prime\n",
      "109\n",
      "im prime\n",
      "109\n",
      "im prime\n",
      "109\n",
      "im prime\n",
      "109\n",
      "im prime\n",
      "109\n",
      "im prime\n",
      "109\n",
      "im prime\n",
      "109\n",
      "im prime\n",
      "109\n",
      "im prime\n",
      "109\n",
      "im prime\n",
      "109\n",
      "im prime\n",
      "109\n",
      "im prime\n",
      "109\n",
      "im prime\n",
      "109\n",
      "im prime\n",
      "109\n",
      "im prime\n",
      "109\n",
      "im prime\n",
      "109\n",
      "im prime\n",
      "109\n",
      "im prime\n",
      "109\n",
      "im prime\n",
      "109\n",
      "im prime\n",
      "109\n",
      "im prime\n",
      "109\n",
      "im prime\n",
      "109\n",
      "im prime\n",
      "109\n",
      "im prime\n",
      "109\n",
      "im prime\n",
      "109\n",
      "im prime\n",
      "109\n",
      "im prime\n",
      "109\n",
      "im prime\n",
      "109\n",
      "im prime\n",
      "109\n",
      "im prime\n",
      "109\n",
      "im prime\n",
      "109\n",
      "im prime\n",
      "109\n",
      "im prime\n",
      "109\n",
      "im prime\n",
      "109\n",
      "im prime\n",
      "109\n",
      "im prime\n",
      "109\n",
      "im prime\n",
      "109\n",
      "im prime\n",
      "109\n",
      "im prime\n",
      "109\n",
      "im prime\n",
      "109\n",
      "im prime\n",
      "109\n",
      "im prime\n",
      "109\n",
      "im prime\n",
      "109\n",
      "im prime\n",
      "109\n",
      "im prime\n",
      "109\n",
      "im prime\n",
      "109\n",
      "im prime\n",
      "109\n",
      "im prime\n",
      "109\n",
      "im prime\n",
      "109\n",
      "im prime\n",
      "109\n",
      "im prime\n",
      "109\n",
      "im prime\n",
      "109\n",
      "im prime\n",
      "109\n",
      "im prime\n",
      "109\n",
      "im prime\n",
      "109\n",
      "im prime\n",
      "109\n",
      "im prime\n",
      "109\n",
      "im prime\n",
      "109\n",
      "im prime\n",
      "109\n",
      "im prime\n",
      "109\n",
      "im prime\n",
      "109\n",
      "im prime\n",
      "109\n",
      "im prime\n",
      "109\n",
      "im prime\n",
      "109\n",
      "im prime\n",
      "109\n",
      "im prime\n",
      "109\n",
      "im prime\n",
      "109\n",
      "im prime\n",
      "109\n",
      "im prime\n",
      "109\n",
      "im prime\n",
      "109\n",
      "im prime\n",
      "109\n",
      "im prime\n",
      "109\n",
      "im prime\n",
      "109\n",
      "im prime\n",
      "109\n",
      "im prime\n",
      "109\n",
      "im prime\n",
      "109\n",
      "im prime\n",
      "109\n",
      "im prime\n",
      "109\n",
      "im prime\n",
      "109\n",
      "im prime\n",
      "109\n",
      "im prime\n",
      "109\n",
      "im prime\n",
      "109\n",
      "im prime\n"
     ]
    }
   ],
   "source": [
    "gap(6,100,110)"
   ]
  },
  {
   "cell_type": "code",
   "execution_count": null,
   "metadata": {},
   "outputs": [],
   "source": []
  },
  {
   "cell_type": "markdown",
   "metadata": {},
   "source": [
    "## Dashatize It"
   ]
  },
  {
   "cell_type": "code",
   "execution_count": 75,
   "metadata": {},
   "outputs": [],
   "source": [
    "def dashatize(num):\n",
    "    odd_list = ['1','3','5','7','9']\n",
    "    s = str(num)\n",
    "    for odd in odd_list:\n",
    "        s = s.replace(odd,'-' + odd + '-')\n",
    "        s = s.replace('--','-')\n",
    "    if s[-1] == '-':\n",
    "        s = s[:-1]\n",
    "    if s[0] == '-':\n",
    "        s = s[1:]\n",
    "    return s"
   ]
  },
  {
   "cell_type": "code",
   "execution_count": 76,
   "metadata": {},
   "outputs": [
    {
     "name": "stdout",
     "output_type": "stream",
     "text": [
      "6\n"
     ]
    },
    {
     "data": {
      "text/plain": [
       "'68-1-5'"
      ]
     },
     "execution_count": 76,
     "metadata": {},
     "output_type": "execute_result"
    }
   ],
   "source": [
    "dashatize(6815)"
   ]
  },
  {
   "cell_type": "markdown",
   "metadata": {},
   "source": [
    "## Pig Latin"
   ]
  },
  {
   "cell_type": "code",
   "execution_count": 96,
   "metadata": {},
   "outputs": [],
   "source": [
    "def pig_it(text):\n",
    "    import string\n",
    "    sentence = text.split()\n",
    "    test = [word[1:] + word[0] + 'ay'if word not in string.punctuation else word for word in sentence ]\n",
    "    return ' '.join(test)"
   ]
  },
  {
   "cell_type": "code",
   "execution_count": 97,
   "metadata": {},
   "outputs": [
    {
     "data": {
      "text/plain": [
       "'elloHay orldway !'"
      ]
     },
     "execution_count": 97,
     "metadata": {},
     "output_type": "execute_result"
    }
   ],
   "source": [
    "pig_it('Hello world !')"
   ]
  },
  {
   "cell_type": "code",
   "execution_count": null,
   "metadata": {},
   "outputs": [],
   "source": []
  }
 ],
 "metadata": {
  "kernelspec": {
   "display_name": "Python 3",
   "language": "python",
   "name": "python3"
  },
  "language_info": {
   "codemirror_mode": {
    "name": "ipython",
    "version": 3
   },
   "file_extension": ".py",
   "mimetype": "text/x-python",
   "name": "python",
   "nbconvert_exporter": "python",
   "pygments_lexer": "ipython3",
   "version": "3.6.5"
  }
 },
 "nbformat": 4,
 "nbformat_minor": 2
}
